{
 "cells": [
  {
   "cell_type": "markdown",
   "metadata": {},
   "source": [
    "### Тема “Аналитическая геометрия” и “Графики на плоскости”"
   ]
  },
  {
   "cell_type": "markdown",
   "metadata": {},
   "source": [
    "### 1. Задание (на листочке)\n",
    "Решите уравнение\n",
    "\n",
    "sin(x)/x=0."
   ]
  },
  {
   "cell_type": "code",
   "execution_count": 2,
   "metadata": {},
   "outputs": [],
   "source": [
    "import numpy as np\n",
    "import matplotlib.pyplot as plt\n",
    "%matplotlib inline"
   ]
  },
  {
   "cell_type": "code",
   "execution_count": 9,
   "metadata": {},
   "outputs": [],
   "source": [
    "x = np.linspace(-10*np.pi, 10*np.pi, 200)"
   ]
  },
  {
   "cell_type": "code",
   "execution_count": 10,
   "metadata": {},
   "outputs": [],
   "source": [
    "y = np.sin(x)/x"
   ]
  },
  {
   "cell_type": "code",
   "execution_count": 12,
   "metadata": {},
   "outputs": [
    {
     "data": {
      "image/png": "[encoded data removed]",
      "text/plain": [
       "<Figure size 432x288 with 1 Axes>"
      ]
     },
     "metadata": {
      "needs_background": "light"
     },
     "output_type": "display_data"
    }
   ],
   "source": [
    "plt.plot(x, y)\n",
    "plt.grid(True)"
   ]
  },
  {
   "cell_type": "code",
   "execution_count": null,
   "metadata": {},
   "outputs": [],
   "source": []
  },
  {
   "cell_type": "markdown",
   "metadata": {},
   "source": [
    "### 2. Задание (на листочке)\n",
    "Даны три прямые y=k1*x+b1, y=k2*x+b2,, y=k3*x+b3. Как узнать, пересекаются они в одной точке или нет?"
   ]
  },
  {
   "cell_type": "markdown",
   "metadata": {},
   "source": [
    "$\\left\\{\n",
    "\\begin{array}{l}\n",
    "(k_1 - k_2) \\bullet x = b_2 - b_1 \\\\\n",
    "(k_2 - k_3) \\bullet x = b_3 - b_2 \\\\\n",
    "(k_1 - k_3) \\bullet x = b_3 - b_1\n",
    "\\end{array}\n",
    "\\right.$"
   ]
  },
  {
   "cell_type": "code",
   "execution_count": null,
   "metadata": {},
   "outputs": [],
   "source": [
    "Пересекаются при выполнении указанного выше условия."
   ]
  },
  {
   "cell_type": "markdown",
   "metadata": {},
   "source": [
    "### 3. Задание (в программе или на листочке)\n",
    "На листе тетради «в линейку» (расстояние между линиями равно а) лежит игла (длиной b). Координаты нижней точки иглы (х,у), игла лежит под углом alfa. Пересекает ли игла линию или нет?"
   ]
  },
  {
   "cell_type": "markdown",
   "metadata": {},
   "source": [
    "### 4. Задание** (задание делать по желанию)\n",
    "Решите аналитически и потом численно (в программе) уравнение, зависящее от параметра а: \n",
    "sin(а*x)=0\n",
    "при условии: 0.01<a<0.02, 100<х<500.\n",
    "Т.е. надо найти решение х как функцию параметра а - построить график x=x(а).\n",
    "Если численным методом не получается найти все ветви решения x(а), то отыщите хотя бы одну."
   ]
  },
  {
   "cell_type": "markdown",
   "metadata": {},
   "source": [
    "### Задание\n",
    "\n",
    "Найти угол между прямыми 4y - 3x +12 = 0 и 7y + x - 14 = 0"
   ]
  },
  {
   "cell_type": "markdown",
   "metadata": {},
   "source": [
    "### Ax + By + C = 0 \n",
    "## $cos\\phi = \\frac{A_1 \\bullet A_2 + B_1 \\bullet B_2}{\\sqrt{A_1^2   + B_1^2}\\bullet \\sqrt{A_2^2   + B_2^2}}$"
   ]
  },
  {
   "cell_type": "markdown",
   "metadata": {},
   "source": [
    "## $cos\\phi = \\frac{-3 + 4 \\bullet 7}{\\sqrt{9 + 16}\\bullet \\sqrt{1 + 49}} = \\frac{25}{\\sqrt{25}\\bullet \\sqrt{50}} = \\frac{\\sqrt{2}}{2}$"
   ]
  },
  {
   "cell_type": "markdown",
   "metadata": {},
   "source": [
    "$\\phi = 45$"
   ]
  },
  {
   "cell_type": "markdown",
   "metadata": {},
   "source": [
    "Найти угол между прямыми \n",
    "\n",
    "$x = \\sqrt{2} \\\\ x = - \\sqrt{3}$"
   ]
  },
  {
   "cell_type": "markdown",
   "metadata": {},
   "source": [
    "Прямые параллельны,\n",
    "$cos\\phi = 1 \\\\\n",
    "\\phi = 0$"
   ]
  },
  {
   "cell_type": "markdown",
   "metadata": {},
   "source": [
    "### Задание\n",
    "\n",
    "Выяснить тип кривых второго порядка, порожденных следующими уравнениями:"
   ]
  },
  {
   "cell_type": "markdown",
   "metadata": {},
   "source": [
    "### $y^2 - 2x - 2y - 5 = 0$"
   ]
  },
  {
   "cell_type": "markdown",
   "metadata": {},
   "source": [
    "$ y^2 - 2y + 1 - 1 - 2x - 5 = 0 \\\\ \n",
    "(y - 1)^2 = 2x + 6 \\\\\n",
    "(y - 1)^2 = 2(x + 3)  \\\\\n",
    "Парабола: y^2 = 2px\n",
    "$"
   ]
  },
  {
   "cell_type": "markdown",
   "metadata": {},
   "source": [
    "### $3x^2 + 5y^2 + 12x - 30y +42 = 0$"
   ]
  },
  {
   "cell_type": "markdown",
   "metadata": {},
   "source": [
    "$3x^2 + 12x + 42 = -5y^2 + 30y \\\\\n",
    "3(x^2 + 4x + 4 + 10) = -5(y^2 - 6y + 9 - 9) \\\\\n",
    "3(x + 2)^2 + 30 = -5(y-3)^2 + 45 \\\\\n",
    "3(x + 2)^2 + 5(y - 3)^2 = 15 \\\\\n",
    "\\frac{(x + 2)^2}{5} + \\frac{(y - 3)^2}{3} = 1 \\\\\n",
    "Эллипс: \\frac{x^2}{a^2}+\\frac{y^2}{b^2} = 1$"
   ]
  },
  {
   "cell_type": "markdown",
   "metadata": {},
   "source": [
    "### $2x^2 - y^2 + 6y - 7 = 0$"
   ]
  },
  {
   "cell_type": "markdown",
   "metadata": {},
   "source": [
    "$2x^2 = y^2 - 6y + 7 = y^2 - 6y + 9 - 2 = (y - 3)^2 -2 \\\\\n",
    "2x^2 - (y - 3)^2 = -2 \\\\\n",
    "x^2 - \\frac{(y - 3)^2}{2} = -1 \\\\ $\n",
    "\n",
    "Хочется сказать, что это гипербола"
   ]
  },
  {
   "cell_type": "markdown",
   "metadata": {},
   "source": [
    "### $2x^2 - 3y^2 - 28x - 42y - 55 = 0$"
   ]
  },
  {
   "cell_type": "markdown",
   "metadata": {},
   "source": [
    "$2x^2 - 28x = 3y^2 + 42y + 55 \\\\\n",
    "2(x^2 - 14x + 49 - 49) = 3(y^2 + 14 + 49 - 49) + 55 \\\\\n",
    "2(x - 7)^2 - 49 \\bullet 2 = 3(y + 7)^2 - 49 \\bullet 3 + 55 \\\\\n",
    "2(x-7)^2 - 3(y +7)^2 = 55 - 49 = 6 \\\\\n",
    "\\frac{(x-7)^2}{3} - \\frac{(y + 7)^2}{2} = 1 \\\\\n",
    "Гипербола$"
   ]
  },
  {
   "cell_type": "code",
   "execution_count": null,
   "metadata": {},
   "outputs": [],
   "source": []
  }
 ],
 "metadata": {
  "kernelspec": {
   "display_name": "Python 3",
   "language": "python",
   "name": "python3"
  },
  "language_info": {
   "codemirror_mode": {
    "name": "ipython",
    "version": 3
   },
   "file_extension": ".py",
   "mimetype": "text/x-python",
   "name": "python",
   "nbconvert_exporter": "python",
   "pygments_lexer": "ipython3",
   "version": "3.7.3"
  }
 },
 "nbformat": 4,
 "nbformat_minor": 2
}
